{
 "cells": [
  {
   "cell_type": "code",
   "execution_count": 24,
   "metadata": {},
   "outputs": [],
   "source": [
    "# import libraries\n",
    "import pandas as pd\n",
    "import numpy as np\n",
    "import matplotlib.pyplot as plt\n",
    "# import seaborn as sns"
   ]
  },
  {
   "cell_type": "code",
   "execution_count": 25,
   "metadata": {},
   "outputs": [],
   "source": [
    "# The goal of this notebook is to examine 3 things:\n",
    "# 1. average revenue to budget ratio (scalar value)\n",
    "# 2. Does having a larger budget lead to more revenue?\n",
    "# 3. Does having a larger budget lead to better ratings?"
   ]
  },
  {
   "cell_type": "code",
   "execution_count": 30,
   "metadata": {},
   "outputs": [
    {
     "name": "stdout",
     "output_type": "stream",
     "text": [
      "16140\n"
     ]
    },
    {
     "data": {
      "text/html": [
       "<div>\n",
       "<style scoped>\n",
       "    .dataframe tbody tr th:only-of-type {\n",
       "        vertical-align: middle;\n",
       "    }\n",
       "\n",
       "    .dataframe tbody tr th {\n",
       "        vertical-align: top;\n",
       "    }\n",
       "\n",
       "    .dataframe thead th {\n",
       "        text-align: right;\n",
       "    }\n",
       "</style>\n",
       "<table border=\"1\" class=\"dataframe\">\n",
       "  <thead>\n",
       "    <tr style=\"text-align: right;\">\n",
       "      <th></th>\n",
       "      <th>budget</th>\n",
       "      <th>id</th>\n",
       "      <th>revenue</th>\n",
       "    </tr>\n",
       "  </thead>\n",
       "  <tbody>\n",
       "    <tr>\n",
       "      <th>0</th>\n",
       "      <td>30000000.0</td>\n",
       "      <td>862</td>\n",
       "      <td>373554033.0</td>\n",
       "    </tr>\n",
       "    <tr>\n",
       "      <th>1</th>\n",
       "      <td>65000000.0</td>\n",
       "      <td>8844</td>\n",
       "      <td>262797249.0</td>\n",
       "    </tr>\n",
       "    <tr>\n",
       "      <th>3</th>\n",
       "      <td>16000000.0</td>\n",
       "      <td>31357</td>\n",
       "      <td>81452156.0</td>\n",
       "    </tr>\n",
       "    <tr>\n",
       "      <th>5</th>\n",
       "      <td>60000000.0</td>\n",
       "      <td>949</td>\n",
       "      <td>187436818.0</td>\n",
       "    </tr>\n",
       "    <tr>\n",
       "      <th>8</th>\n",
       "      <td>35000000.0</td>\n",
       "      <td>9091</td>\n",
       "      <td>64350171.0</td>\n",
       "    </tr>\n",
       "  </tbody>\n",
       "</table>\n",
       "</div>"
      ],
      "text/plain": [
       "       budget     id      revenue\n",
       "0  30000000.0    862  373554033.0\n",
       "1  65000000.0   8844  262797249.0\n",
       "3  16000000.0  31357   81452156.0\n",
       "5  60000000.0    949  187436818.0\n",
       "8  35000000.0   9091   64350171.0"
      ]
     },
     "execution_count": 30,
     "metadata": {},
     "output_type": "execute_result"
    }
   ],
   "source": [
    "# read in cleaned movies metainformation\n",
    "metainfo_data = pd.read_csv('Datasets/cleaned-movies-metainformation.csv')\n",
    "\n",
    "# We only need budget, id, and revenue, so let's drop all of the other columns.\n",
    "metainfo_data.drop(['adult', 'belongs_to_collection', 'genres', 'original_language', 'original_title', 'popularity', 'production_companies', 'production_countries', 'release_date', 'runtime', 'spoken_languages', 'status', 'title', 'vote_average', 'vote_count'], axis = 1, inplace = True)\n",
    "\n",
    "# Now we want to get rid of all the rows where budget or revenue is null.\n",
    "# QUESTION: Do we want to remove rows where budget or revenue equals 0?\n",
    "index_names = metainfo_data[metainfo_data['budget'].isnull() | metainfo_data['revenue'].isnull()].index\n",
    "metainfo_data.drop(index_names, inplace = True)\n",
    "\n",
    "# To make sure we still have enough data to work with after dropping all of these rows, let's check the size of our dataframe.\n",
    "print(metainfo_data.size)\n",
    "# Seems like we have enough data to work with even after all the drops.\n",
    "\n",
    "# Proceed to check the first few columns of our dataframe.\n",
    "metainfo_data.head()\n",
    "# The data looks good, so let's move on!"
   ]
  },
  {
   "cell_type": "code",
   "execution_count": 34,
   "metadata": {},
   "outputs": [
    {
     "name": "stdout",
     "output_type": "stream",
     "text": [
      "1855.6440117454727\n"
     ]
    }
   ],
   "source": [
    "# The first thing we want to do is find the average revenue to budget ratio.\n",
    "# We can find this value by finding the revenue to budget ratio for each row and then averaging all of the ratios.\n",
    "ratios_sum = 0\n",
    "for index, row in metainfo_data.iterrows():\n",
    "    ratios_sum += row['revenue'] / row['budget']\n",
    "ratios_avg = ratios_sum / metainfo_data.size\n",
    "# The average revenue to budget ratio means that on average, for every dollar spent on the movie budget, 1855.64 dollars will be made in revenue.\n",
    "print(ratios_avg)"
   ]
  },
  {
   "cell_type": "code",
   "execution_count": null,
   "metadata": {},
   "outputs": [],
   "source": []
  }
 ],
 "metadata": {
  "kernelspec": {
   "display_name": "Python 3",
   "language": "python",
   "name": "python3"
  },
  "language_info": {
   "codemirror_mode": {
    "name": "ipython",
    "version": 3
   },
   "file_extension": ".py",
   "mimetype": "text/x-python",
   "name": "python",
   "nbconvert_exporter": "python",
   "pygments_lexer": "ipython3",
   "version": "3.8.5"
  }
 },
 "nbformat": 4,
 "nbformat_minor": 4
}
