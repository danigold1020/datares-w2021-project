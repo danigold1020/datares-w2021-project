{
 "cells": [
  {
   "cell_type": "code",
   "execution_count": 78,
   "metadata": {},
   "outputs": [],
   "source": [
    "# import libraries\n",
    "import pandas as pd\n",
    "import numpy as np\n",
    "import matplotlib.pyplot as plt\n",
    "import seaborn as sns"
   ]
  },
  {
   "cell_type": "code",
   "execution_count": 79,
   "metadata": {},
   "outputs": [],
   "source": [
    "# The goal of this notebook is to examine 3 things:\n",
    "# 1. average revenue to budget ratio (scalar value)\n",
    "# 2. Does having a larger budget lead to more revenue?\n",
    "# 3. Does having a larger budget lead to better ratings?"
   ]
  },
  {
   "cell_type": "code",
   "execution_count": 80,
   "metadata": {},
   "outputs": [
    {
     "name": "stdout",
     "output_type": "stream",
     "text": [
      "21520\n"
     ]
    },
    {
     "data": {
      "text/html": [
       "<div>\n",
       "<style scoped>\n",
       "    .dataframe tbody tr th:only-of-type {\n",
       "        vertical-align: middle;\n",
       "    }\n",
       "\n",
       "    .dataframe tbody tr th {\n",
       "        vertical-align: top;\n",
       "    }\n",
       "\n",
       "    .dataframe thead th {\n",
       "        text-align: right;\n",
       "    }\n",
       "</style>\n",
       "<table border=\"1\" class=\"dataframe\">\n",
       "  <thead>\n",
       "    <tr style=\"text-align: right;\">\n",
       "      <th></th>\n",
       "      <th>budget</th>\n",
       "      <th>id</th>\n",
       "      <th>original_title</th>\n",
       "      <th>revenue</th>\n",
       "    </tr>\n",
       "  </thead>\n",
       "  <tbody>\n",
       "    <tr>\n",
       "      <th>0</th>\n",
       "      <td>30000000.0</td>\n",
       "      <td>862</td>\n",
       "      <td>Toy Story</td>\n",
       "      <td>373554033.0</td>\n",
       "    </tr>\n",
       "    <tr>\n",
       "      <th>1</th>\n",
       "      <td>65000000.0</td>\n",
       "      <td>8844</td>\n",
       "      <td>Jumanji</td>\n",
       "      <td>262797249.0</td>\n",
       "    </tr>\n",
       "    <tr>\n",
       "      <th>3</th>\n",
       "      <td>16000000.0</td>\n",
       "      <td>31357</td>\n",
       "      <td>Waiting to Exhale</td>\n",
       "      <td>81452156.0</td>\n",
       "    </tr>\n",
       "    <tr>\n",
       "      <th>5</th>\n",
       "      <td>60000000.0</td>\n",
       "      <td>949</td>\n",
       "      <td>Heat</td>\n",
       "      <td>187436818.0</td>\n",
       "    </tr>\n",
       "    <tr>\n",
       "      <th>8</th>\n",
       "      <td>35000000.0</td>\n",
       "      <td>9091</td>\n",
       "      <td>Sudden Death</td>\n",
       "      <td>64350171.0</td>\n",
       "    </tr>\n",
       "  </tbody>\n",
       "</table>\n",
       "</div>"
      ],
      "text/plain": [
       "       budget     id     original_title      revenue\n",
       "0  30000000.0    862          Toy Story  373554033.0\n",
       "1  65000000.0   8844            Jumanji  262797249.0\n",
       "3  16000000.0  31357  Waiting to Exhale   81452156.0\n",
       "5  60000000.0    949               Heat  187436818.0\n",
       "8  35000000.0   9091       Sudden Death   64350171.0"
      ]
     },
     "execution_count": 80,
     "metadata": {},
     "output_type": "execute_result"
    }
   ],
   "source": [
    "# read in cleaned movies metainformation\n",
    "metainfo_data = pd.read_csv('Datasets/cleaned-movies-metainformation.csv')\n",
    "\n",
    "# We only need budget, id, and revenue, so let's drop all of the other columns.\n",
    "metainfo_data.drop(['adult', 'belongs_to_collection', 'genres', 'original_language', 'popularity', 'production_companies', 'production_countries', 'release_date', 'runtime', 'spoken_languages', 'status', 'title', 'vote_average', 'vote_count'], axis = 1, inplace = True)\n",
    "\n",
    "# Now we want to get rid of all the rows where budget or revenue is null.\n",
    "# QUESTION: Do we want to remove rows where budget or revenue equals 0?\n",
    "index_names = metainfo_data[metainfo_data['budget'].isnull() | metainfo_data['revenue'].isnull()].index\n",
    "metainfo_data.drop(index_names, inplace = True)\n",
    "\n",
    "# To make sure we still have enough data to work with after dropping all of these rows, let's check the size of our dataframe.\n",
    "print(metainfo_data.size)\n",
    "# Seems like we have enough data to work with even after all the drops.\n",
    "\n",
    "# Proceed to check the first few columns of our dataframe.\n",
    "metainfo_data.head()\n",
    "# The data looks good, so let's move on!"
   ]
  },
  {
   "cell_type": "code",
   "execution_count": 81,
   "metadata": {},
   "outputs": [
    {
     "name": "stdout",
     "output_type": "stream",
     "text": [
      "1391.7330088091044\n"
     ]
    }
   ],
   "source": [
    "# The first thing we want to do is find the average revenue to budget ratio.\n",
    "# We can find this value by finding the revenue to budget ratio for each row and then averaging all of the ratios.\n",
    "ratios_sum = 0\n",
    "for index, row in metainfo_data.iterrows():\n",
    "    ratios_sum += row['revenue'] / row['budget']\n",
    "ratios_avg = ratios_sum / metainfo_data.size\n",
    "# The average revenue to budget ratio means that on average, for every dollar spent on the movie budget, 1855.64 dollars will be made in revenue.\n",
    "print(ratios_avg)"
   ]
  },
  {
   "cell_type": "code",
   "execution_count": 82,
   "metadata": {},
   "outputs": [
    {
     "name": "stderr",
     "output_type": "stream",
     "text": [
      "C:\\Users\\bonni\\anaconda3\\lib\\site-packages\\seaborn\\_decorators.py:36: FutureWarning: Pass the following variables as keyword args: x, y. From version 0.12, the only valid positional argument will be `data`, and passing other arguments without an explicit keyword will result in an error or misinterpretation.\n",
      "  warnings.warn(\n"
     ]
    },
    {
     "data": {
      "text/plain": [
       "Text(0.5, 1.0, 'Correlation between Movie Budget and Revenue')"
      ]
     },
     "execution_count": 82,
     "metadata": {},
     "output_type": "execute_result"
    },
    {
     "data": {
      "image/png": "[encoded data removed]",
      "text/plain": [
       "<Figure size 576x288 with 1 Axes>"
      ]
     },
     "metadata": {
      "needs_background": "light"
     },
     "output_type": "display_data"
    }
   ],
   "source": [
    "# The next hing we want to tackle is the following question: Does having a larger budget lead to more revenue?\n",
    "plt.figure(figsize=(8, 4))\n",
    "sns.regplot(metainfo_data['budget'],metainfo_data['revenue'], color='g').set_title(\"Correlation between Movie Budget and Revenue\")\n",
    "\n",
    "# REMOVE LATER: THESE ARE ALTERNATIVE APPROACHES I TOOK TO MAKING THIS GRAPH\n",
    "# Approach #1\n",
    "#sns.scatterplot(metainfo_data['budget'], metainfo_data['revenue']);\n",
    "#plt.title('Correlation between Movie Budget and Revenue');\n",
    "#plt.xlabel('Budget');\n",
    "#plt.ylabel('Revenue');\n",
    "# Approach #2\n",
    "# plt.plot(np.unique(x), np.poly1d(np.polyfit(x, y, 1))(np.unique(x)))"
   ]
  },
  {
   "cell_type": "code",
   "execution_count": 83,
   "metadata": {},
   "outputs": [
    {
     "name": "stdout",
     "output_type": "stream",
     "text": [
      "Avatar made the most revenue ( 2787965087.0 ) and only had a budget of 237000000.0\n",
      "Pirates of the Caribbean: On Stranger Tides had the largest budget ( 380000000.0 ) but only had a revenue of 1045713802.0\n"
     ]
    }
   ],
   "source": [
    "# Now let's examine the above graph in a little bit more detail. We notice that there are a couple of seemingly \"extreme\" points in our graph.\n",
    "\n",
    "# Notice that the movie that made the most revenue didn't have the highest budget. Let's find out the name of this movie.\n",
    "max_rev_index = metainfo_data[['revenue']].idxmax()\n",
    "max_rev_movie = metainfo_data._get_value(max_rev_index['revenue'], \"original_title\")\n",
    "print(max_rev_movie, \"made the most revenue (\", metainfo_data['revenue'].max(), \") and only had a budget of\", metainfo_data._get_value(max_rev_index['revenue'], \"budget\"))\n",
    "\n",
    "# On the other hand, notice that the movie that had the largest budget did not make the most revenue. Let's find out the name of this movie.\n",
    "max_budget_index = metainfo_data[['budget']].idxmax()\n",
    "max_budget_movie = metainfo_data._get_value(max_budget_index['budget'], \"original_title\")\n",
    "print(max_budget_movie, \"had the largest budget (\", metainfo_data['budget'].max(), \") but only had a revenue of\", metainfo_data._get_value(max_budget_index['budget'], \"revenue\"))"
   ]
  },
  {
   "cell_type": "code",
   "execution_count": null,
   "metadata": {},
   "outputs": [],
   "source": []
  }
 ],
 "metadata": {
  "kernelspec": {
   "display_name": "Python 3",
   "language": "python",
   "name": "python3"
  },
  "language_info": {
   "codemirror_mode": {
    "name": "ipython",
    "version": 3
   },
   "file_extension": ".py",
   "mimetype": "text/x-python",
   "name": "python",
   "nbconvert_exporter": "python",
   "pygments_lexer": "ipython3",
   "version": "3.8.5"
  }
 },
 "nbformat": 4,
 "nbformat_minor": 4
}
